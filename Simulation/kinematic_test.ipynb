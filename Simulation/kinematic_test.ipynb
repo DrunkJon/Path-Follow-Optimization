{
 "cells": [
  {
   "cell_type": "code",
   "execution_count": 1,
   "metadata": {},
   "outputs": [],
   "source": [
    "import numpy as np\n",
    "from Turtlebot_Kinematics import *\n",
    "import matplotlib.pyplot as plt\n"
   ]
  },
  {
   "cell_type": "code",
   "execution_count": 2,
   "metadata": {},
   "outputs": [
    {
     "data": {
      "text/plain": [
       "(0.0, -2.775)"
      ]
     },
     "execution_count": 2,
     "metadata": {},
     "output_type": "execute_result"
    }
   ],
   "source": [
    "MAX_V = 22.2\n",
    "translate_differential_drive(MAX_V, -MAX_V)"
   ]
  },
  {
   "cell_type": "code",
   "execution_count": 3,
   "metadata": {},
   "outputs": [],
   "source": [
    "from run_util import load_ENV\n",
    "from environment import Environment\n",
    "from time import time"
   ]
  },
  {
   "cell_type": "code",
   "execution_count": 4,
   "metadata": {},
   "outputs": [
    {
     "name": "stdout",
     "output_type": "stream",
     "text": [
      "loading simple\n"
     ]
    }
   ],
   "source": [
    "ENV = load_ENV(\"simple\", False)\n",
    "ENV.set_robo_state(np.array([1000, 400, np.pi / 4]))"
   ]
  },
  {
   "cell_type": "code",
   "execution_count": 5,
   "metadata": {},
   "outputs": [
    {
     "data": {
      "image/png": "[encoded data removed]",
      "text/plain": [
       "<Figure size 640x480 with 1 Axes>"
      ]
     },
     "metadata": {},
     "output_type": "display_data"
    },
    {
     "name": "stdout",
     "output_type": "stream",
     "text": [
      "0.05000019073486328\n"
     ]
    }
   ],
   "source": [
    "dt = 1 / 20\n",
    "v_space = np.linspace(-MAX_V, MAX_V, 25)\n",
    "sensor_fusion = ENV.get_sensor_fusion()\n",
    "\n",
    "# DWA like grid sampling\n",
    "start_time = time()\n",
    "fitness_grid = np.array([\n",
    "    [ENV.fitness_single(pos=move_turtle(ENV.robo_state ,*translate_differential_drive(v_left, v_right), dt)[:2], sensor_fusion=sensor_fusion) for v_left in v_space]\n",
    "    for v_right in v_space\n",
    "])\n",
    "process_time = time() - start_time\n",
    "\n",
    "# rendering\n",
    "fig, ax = plt.subplots()\n",
    "im = ax.imshow(fitness_grid)\n",
    "tick_locs = [0, int(len(v_space)/2), len(v_space)-1]\n",
    "labels = [round(v, 1) for v in v_space[tick_locs]]\n",
    "ax.set_xticks(tick_locs, labels=labels)\n",
    "ax.set_yticks(tick_locs, labels=labels)\n",
    "plt.show()\n",
    "print(process_time)"
   ]
  },
  {
   "cell_type": "code",
   "execution_count": null,
   "metadata": {},
   "outputs": [],
   "source": []
  }
 ],
 "metadata": {
  "kernelspec": {
   "display_name": "Python 3",
   "language": "python",
   "name": "python3"
  },
  "language_info": {
   "codemirror_mode": {
    "name": "ipython",
    "version": 3
   },
   "file_extension": ".py",
   "mimetype": "text/x-python",
   "name": "python",
   "nbconvert_exporter": "python",
   "pygments_lexer": "ipython3",
   "version": "3.10.11"
  }
 },
 "nbformat": 4,
 "nbformat_minor": 2
}
