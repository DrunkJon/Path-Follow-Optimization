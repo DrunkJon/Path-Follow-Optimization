{
 "cells": [
  {
   "cell_type": "code",
   "execution_count": 16,
   "metadata": {},
   "outputs": [],
   "source": [
    "import graphical_evaluation as ge\n",
    "from graphical_evaluation import read_data, get_eval_arrays\n",
    "\n",
    "dir_name = \"DWA param Experiment #5\"\n",
    "depth = 1\n",
    "ge.MAX_INDEX = 430 # 567 / 430\n",
    "ge.DT = 0.16       # 0.1 / 0.16\n",
    "\n",
    "data_dict = read_data(f\"./data/{dir_name}\", depth)\n",
    "eval_dict = {}\n",
    "for key, df in data_dict.items():\n",
    "    eval_dict[key] = get_eval_arrays(df, ge.MAX_INDEX)\n",
    "    "
   ]
  },
  {
   "cell_type": "code",
   "execution_count": 17,
   "metadata": {},
   "outputs": [],
   "source": [
    "import numpy as np"
   ]
  },
  {
   "cell_type": "code",
   "execution_count": 28,
   "metadata": {},
   "outputs": [
    {
     "name": "stdout",
     "output_type": "stream",
     "text": [
      "======= goal_x =======\n",
      "#1: 4_1.0_2 59.910527541425935\n",
      "#2: 4_1.33_4 70.1567896287258\n",
      "#3: 4_1.0_4 76.79898156835725\n",
      "#4: 4_0.5_1 78.93566565746697\n",
      "#5: 4_0.5_2 79.16667041576076\n",
      "#6: 4_2.0_4 85.29017422444161\n",
      "#7: 4_0.33_1 93.96572553758322\n",
      "#8: 4_0.67_2 101.42026447097142\n",
      "#9: 4_0.25_1 125.93446053834005\n",
      "\n",
      "======= goal_y =======\n",
      "#1: 4_2.0_4 13.739268018379\n",
      "#2: 4_1.33_4 16.71518558500403\n",
      "#3: 4_1.0_4 18.610050573851606\n",
      "#4: 4_1.0_2 19.420836822740924\n",
      "#5: 4_0.67_2 21.569255883144137\n",
      "#6: 4_0.5_1 23.02601212336395\n",
      "#7: 4_0.5_2 23.06440397176599\n",
      "#8: 4_0.25_1 23.242462374581972\n",
      "#9: 4_0.33_1 24.43985256373994\n",
      "\n",
      "======= obst_dist =======\n",
      "#1: 4_0.25_1 3.334383048884877\n",
      "#2: 4_0.33_1 3.3094407855975922\n",
      "#3: 4_0.5_2 3.3055995495958705\n",
      "#4: 4_0.5_1 3.2936758473989274\n",
      "#5: 4_0.67_2 3.190269727595544\n",
      "#6: 4_1.0_2 2.96227915266726\n",
      "#7: 4_1.0_4 2.908216133517971\n",
      "#8: 4_1.33_4 2.814670707192529\n",
      "#9: 4_2.0_4 2.656147471448997\n",
      "\n",
      "======= obst_min =======\n",
      "#1: 4_0.25_1 1.759363464204471\n",
      "#2: 4_0.5_2 1.5356957992782578\n",
      "#3: 4_0.5_1 1.5132159508996046\n",
      "#4: 4_0.67_2 1.2467875699363937\n",
      "#5: 4_0.33_1 1.1945909317657322\n",
      "#6: 4_1.0_4 1.1312205255737997\n",
      "#7: 4_2.0_4 1.069294366642624\n",
      "#8: 4_1.0_2 0.7946443830513183\n",
      "#9: 4_1.33_4 0.7774175071029945\n",
      "\n",
      "======= true_obst_min =======\n",
      "#1: 4_1.0_4 0.9582495212339511\n",
      "#2: 4_0.25_1 0.0\n",
      "#3: 4_0.5_2 0.0\n",
      "#4: 4_0.5_1 0.0\n",
      "#5: 4_0.67_2 0.0\n",
      "#6: 4_0.33_1 0.0\n",
      "#7: 4_2.0_4 0.0\n",
      "#8: 4_1.0_2 0.0\n",
      "#9: 4_1.33_4 0.0\n",
      "\n"
     ]
    }
   ],
   "source": [
    "avgs = {}\n",
    "criteria = [\"goal_x\", \"goal_y\", \"obst_dist\", \"obst_min\", \"true_obst_min\"]\n",
    "sort_orders = [False, False, True, True, True]\n",
    "keys = list(eval_dict.keys())\n",
    "for key, (goal_xs, goal_ys, obst_dists, obst_mins) in eval_dict.items(): \n",
    "    avgs[key] = {\n",
    "        \"goal_x\": np.average(goal_xs),\n",
    "        \"goal_y\": np.average(goal_ys),\n",
    "        \"obst_dist\": np.average(obst_dists),\n",
    "        \"obst_min\": np.average(obst_mins),\n",
    "        \"true_obst_min\": min(obst_mins)\n",
    "    }\n",
    "\n",
    "for crit, accending in zip(criteria, sort_orders):\n",
    "    keys = sorted(keys, key = lambda x: avgs[x][crit], reverse=accending)\n",
    "    print(\"=\"*7, f\"{crit}\", \"=\"*7)\n",
    "    for i,key in enumerate(keys):\n",
    "        print(f\"#{i+1}:\", key, avgs[key][crit])\n",
    "    print()\n"
   ]
  },
  {
   "cell_type": "code",
   "execution_count": null,
   "metadata": {},
   "outputs": [],
   "source": []
  }
 ],
 "metadata": {
  "kernelspec": {
   "display_name": "Python 3",
   "language": "python",
   "name": "python3"
  },
  "language_info": {
   "codemirror_mode": {
    "name": "ipython",
    "version": 3
   },
   "file_extension": ".py",
   "mimetype": "text/x-python",
   "name": "python",
   "nbconvert_exporter": "python",
   "pygments_lexer": "ipython3",
   "version": "3.10.11"
  }
 },
 "nbformat": 4,
 "nbformat_minor": 2
}
